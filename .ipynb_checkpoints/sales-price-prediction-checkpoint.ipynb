{
 "cells": [
  {
   "cell_type": "markdown",
   "id": "91fa02f3",
   "metadata": {
    "papermill": {
     "duration": 0.011684,
     "end_time": "2024-05-30T06:13:53.430939",
     "exception": false,
     "start_time": "2024-05-30T06:13:53.419255",
     "status": "completed"
    },
    "tags": []
   },
   "source": [
    "# Importing Libraries"
   ]
  },
  {
   "cell_type": "code",
   "execution_count": 50,
   "id": "e6d1d540",
   "metadata": {
    "_cell_guid": "b1076dfc-b9ad-4769-8c92-a6c4dae69d19",
    "_uuid": "8f2839f25d086af736a60e9eeb907d3b93b6e0e5",
    "execution": {
     "iopub.execute_input": "2024-05-30T06:13:53.455174Z",
     "iopub.status.busy": "2024-05-30T06:13:53.454481Z",
     "iopub.status.idle": "2024-05-30T06:13:56.745856Z",
     "shell.execute_reply": "2024-05-30T06:13:56.744393Z"
    },
    "papermill": {
     "duration": 3.306933,
     "end_time": "2024-05-30T06:13:56.748958",
     "exception": false,
     "start_time": "2024-05-30T06:13:53.442025",
     "status": "completed"
    },
    "tags": []
   },
   "outputs": [],
   "source": [
    "# ignore warning\n",
    "import warnings\n",
    "warnings.filterwarnings('ignore')\n",
    "\n",
    "# data manipulation\n",
    "import pandas as pd\n",
    "\n",
    "# data visulization\n",
    "import matplotlib.pyplot as plt\n",
    "import seaborn as sns\n",
    "\n",
    "# model building\n",
    "from sklearn.preprocessing import StandardScaler\n",
    "from sklearn.model_selection import train_test_split\n",
    "from sklearn.linear_model import LinearRegression,Ridge,Lasso,ElasticNet\n",
    "from sklearn.metrics import r2_score\n",
    "from sklearn.ensemble import VotingRegressor"
   ]
  },
  {
   "cell_type": "markdown",
   "id": "d28d915c",
   "metadata": {
    "papermill": {
     "duration": 0.010835,
     "end_time": "2024-05-30T06:13:56.770907",
     "exception": false,
     "start_time": "2024-05-30T06:13:56.760072",
     "status": "completed"
    },
    "tags": []
   },
   "source": [
    "# Load Data"
   ]
  },
  {
   "cell_type": "code",
   "execution_count": 51,
   "id": "9a9b2970",
   "metadata": {
    "execution": {
     "iopub.execute_input": "2024-05-30T06:13:56.797078Z",
     "iopub.status.busy": "2024-05-30T06:13:56.796036Z",
     "iopub.status.idle": "2024-05-30T06:13:56.856312Z",
     "shell.execute_reply": "2024-05-30T06:13:56.855044Z"
    },
    "papermill": {
     "duration": 0.076319,
     "end_time": "2024-05-30T06:13:56.858953",
     "exception": false,
     "start_time": "2024-05-30T06:13:56.782634",
     "status": "completed"
    },
    "tags": []
   },
   "outputs": [
    {
     "data": {
      "text/html": [
       "<div>\n",
       "<style scoped>\n",
       "    .dataframe tbody tr th:only-of-type {\n",
       "        vertical-align: middle;\n",
       "    }\n",
       "\n",
       "    .dataframe tbody tr th {\n",
       "        vertical-align: top;\n",
       "    }\n",
       "\n",
       "    .dataframe thead th {\n",
       "        text-align: right;\n",
       "    }\n",
       "</style>\n",
       "<table border=\"1\" class=\"dataframe\">\n",
       "  <thead>\n",
       "    <tr style=\"text-align: right;\">\n",
       "      <th></th>\n",
       "      <th>Unnamed: 0</th>\n",
       "      <th>TV</th>\n",
       "      <th>Radio</th>\n",
       "      <th>Newspaper</th>\n",
       "      <th>Sales</th>\n",
       "    </tr>\n",
       "  </thead>\n",
       "  <tbody>\n",
       "    <tr>\n",
       "      <th>0</th>\n",
       "      <td>1</td>\n",
       "      <td>230.1</td>\n",
       "      <td>37.8</td>\n",
       "      <td>69.2</td>\n",
       "      <td>22.1</td>\n",
       "    </tr>\n",
       "    <tr>\n",
       "      <th>1</th>\n",
       "      <td>2</td>\n",
       "      <td>44.5</td>\n",
       "      <td>39.3</td>\n",
       "      <td>45.1</td>\n",
       "      <td>10.4</td>\n",
       "    </tr>\n",
       "    <tr>\n",
       "      <th>2</th>\n",
       "      <td>3</td>\n",
       "      <td>17.2</td>\n",
       "      <td>45.9</td>\n",
       "      <td>69.3</td>\n",
       "      <td>9.3</td>\n",
       "    </tr>\n",
       "    <tr>\n",
       "      <th>3</th>\n",
       "      <td>4</td>\n",
       "      <td>151.5</td>\n",
       "      <td>41.3</td>\n",
       "      <td>58.5</td>\n",
       "      <td>18.5</td>\n",
       "    </tr>\n",
       "    <tr>\n",
       "      <th>4</th>\n",
       "      <td>5</td>\n",
       "      <td>180.8</td>\n",
       "      <td>10.8</td>\n",
       "      <td>58.4</td>\n",
       "      <td>12.9</td>\n",
       "    </tr>\n",
       "  </tbody>\n",
       "</table>\n",
       "</div>"
      ],
      "text/plain": [
       "   Unnamed: 0     TV  Radio  Newspaper  Sales\n",
       "0           1  230.1   37.8       69.2   22.1\n",
       "1           2   44.5   39.3       45.1   10.4\n",
       "2           3   17.2   45.9       69.3    9.3\n",
       "3           4  151.5   41.3       58.5   18.5\n",
       "4           5  180.8   10.8       58.4   12.9"
      ]
     },
     "execution_count": 51,
     "metadata": {},
     "output_type": "execute_result"
    }
   ],
   "source": [
    "# load data\n",
    "data = pd.read_csv('Advertising.csv')\n",
    "data.head()"
   ]
  },
  {
   "cell_type": "code",
   "execution_count": 52,
   "id": "e1fd90d0",
   "metadata": {
    "execution": {
     "iopub.execute_input": "2024-05-30T06:13:56.883639Z",
     "iopub.status.busy": "2024-05-30T06:13:56.882911Z",
     "iopub.status.idle": "2024-05-30T06:13:56.893078Z",
     "shell.execute_reply": "2024-05-30T06:13:56.892059Z"
    },
    "papermill": {
     "duration": 0.025571,
     "end_time": "2024-05-30T06:13:56.895746",
     "exception": false,
     "start_time": "2024-05-30T06:13:56.870175",
     "status": "completed"
    },
    "tags": []
   },
   "outputs": [],
   "source": [
    "# drop unnecessary col\n",
    "data = data.drop(columns=['Unnamed: 0'])"
   ]
  },
  {
   "cell_type": "code",
   "execution_count": 53,
   "id": "629cc993",
   "metadata": {
    "execution": {
     "iopub.execute_input": "2024-05-30T06:13:56.920458Z",
     "iopub.status.busy": "2024-05-30T06:13:56.919970Z",
     "iopub.status.idle": "2024-05-30T06:13:56.944013Z",
     "shell.execute_reply": "2024-05-30T06:13:56.942395Z"
    },
    "papermill": {
     "duration": 0.039185,
     "end_time": "2024-05-30T06:13:56.946671",
     "exception": false,
     "start_time": "2024-05-30T06:13:56.907486",
     "status": "completed"
    },
    "tags": []
   },
   "outputs": [
    {
     "name": "stdout",
     "output_type": "stream",
     "text": [
      "<class 'pandas.core.frame.DataFrame'>\n",
      "RangeIndex: 200 entries, 0 to 199\n",
      "Data columns (total 4 columns):\n",
      " #   Column     Non-Null Count  Dtype  \n",
      "---  ------     --------------  -----  \n",
      " 0   TV         200 non-null    float64\n",
      " 1   Radio      200 non-null    float64\n",
      " 2   Newspaper  200 non-null    float64\n",
      " 3   Sales      200 non-null    float64\n",
      "dtypes: float64(4)\n",
      "memory usage: 6.4 KB\n"
     ]
    }
   ],
   "source": [
    "# info about data\n",
    "data.info()"
   ]
  },
  {
   "cell_type": "code",
   "execution_count": 54,
   "id": "86e599c1",
   "metadata": {
    "execution": {
     "iopub.execute_input": "2024-05-30T06:13:56.972967Z",
     "iopub.status.busy": "2024-05-30T06:13:56.972526Z",
     "iopub.status.idle": "2024-05-30T06:13:57.003804Z",
     "shell.execute_reply": "2024-05-30T06:13:57.002541Z"
    },
    "papermill": {
     "duration": 0.047174,
     "end_time": "2024-05-30T06:13:57.006671",
     "exception": false,
     "start_time": "2024-05-30T06:13:56.959497",
     "status": "completed"
    },
    "tags": []
   },
   "outputs": [
    {
     "data": {
      "text/html": [
       "<div>\n",
       "<style scoped>\n",
       "    .dataframe tbody tr th:only-of-type {\n",
       "        vertical-align: middle;\n",
       "    }\n",
       "\n",
       "    .dataframe tbody tr th {\n",
       "        vertical-align: top;\n",
       "    }\n",
       "\n",
       "    .dataframe thead th {\n",
       "        text-align: right;\n",
       "    }\n",
       "</style>\n",
       "<table border=\"1\" class=\"dataframe\">\n",
       "  <thead>\n",
       "    <tr style=\"text-align: right;\">\n",
       "      <th></th>\n",
       "      <th>count</th>\n",
       "      <th>mean</th>\n",
       "      <th>std</th>\n",
       "      <th>min</th>\n",
       "      <th>25%</th>\n",
       "      <th>50%</th>\n",
       "      <th>75%</th>\n",
       "      <th>max</th>\n",
       "    </tr>\n",
       "  </thead>\n",
       "  <tbody>\n",
       "    <tr>\n",
       "      <th>TV</th>\n",
       "      <td>200.0</td>\n",
       "      <td>147.0425</td>\n",
       "      <td>85.854236</td>\n",
       "      <td>0.7</td>\n",
       "      <td>74.375</td>\n",
       "      <td>149.75</td>\n",
       "      <td>218.825</td>\n",
       "      <td>296.4</td>\n",
       "    </tr>\n",
       "    <tr>\n",
       "      <th>Radio</th>\n",
       "      <td>200.0</td>\n",
       "      <td>23.2640</td>\n",
       "      <td>14.846809</td>\n",
       "      <td>0.0</td>\n",
       "      <td>9.975</td>\n",
       "      <td>22.90</td>\n",
       "      <td>36.525</td>\n",
       "      <td>49.6</td>\n",
       "    </tr>\n",
       "    <tr>\n",
       "      <th>Newspaper</th>\n",
       "      <td>200.0</td>\n",
       "      <td>30.5540</td>\n",
       "      <td>21.778621</td>\n",
       "      <td>0.3</td>\n",
       "      <td>12.750</td>\n",
       "      <td>25.75</td>\n",
       "      <td>45.100</td>\n",
       "      <td>114.0</td>\n",
       "    </tr>\n",
       "    <tr>\n",
       "      <th>Sales</th>\n",
       "      <td>200.0</td>\n",
       "      <td>14.0225</td>\n",
       "      <td>5.217457</td>\n",
       "      <td>1.6</td>\n",
       "      <td>10.375</td>\n",
       "      <td>12.90</td>\n",
       "      <td>17.400</td>\n",
       "      <td>27.0</td>\n",
       "    </tr>\n",
       "  </tbody>\n",
       "</table>\n",
       "</div>"
      ],
      "text/plain": [
       "           count      mean        std  min     25%     50%      75%    max\n",
       "TV         200.0  147.0425  85.854236  0.7  74.375  149.75  218.825  296.4\n",
       "Radio      200.0   23.2640  14.846809  0.0   9.975   22.90   36.525   49.6\n",
       "Newspaper  200.0   30.5540  21.778621  0.3  12.750   25.75   45.100  114.0\n",
       "Sales      200.0   14.0225   5.217457  1.6  10.375   12.90   17.400   27.0"
      ]
     },
     "execution_count": 54,
     "metadata": {},
     "output_type": "execute_result"
    }
   ],
   "source": [
    "# statistics of data\n",
    "data.describe().T"
   ]
  },
  {
   "cell_type": "code",
   "execution_count": 55,
   "id": "46806337",
   "metadata": {
    "execution": {
     "iopub.execute_input": "2024-05-30T06:13:57.032789Z",
     "iopub.status.busy": "2024-05-30T06:13:57.031644Z",
     "iopub.status.idle": "2024-05-30T06:13:57.041354Z",
     "shell.execute_reply": "2024-05-30T06:13:57.040106Z"
    },
    "papermill": {
     "duration": 0.025245,
     "end_time": "2024-05-30T06:13:57.043532",
     "exception": false,
     "start_time": "2024-05-30T06:13:57.018287",
     "status": "completed"
    },
    "tags": []
   },
   "outputs": [
    {
     "data": {
      "text/plain": [
       "TV           0\n",
       "Radio        0\n",
       "Newspaper    0\n",
       "Sales        0\n",
       "dtype: int64"
      ]
     },
     "execution_count": 55,
     "metadata": {},
     "output_type": "execute_result"
    }
   ],
   "source": [
    "# check null values\n",
    "data.isna().sum()"
   ]
  },
  {
   "cell_type": "code",
   "execution_count": 56,
   "id": "7264c751",
   "metadata": {
    "execution": {
     "iopub.execute_input": "2024-05-30T06:13:57.069203Z",
     "iopub.status.busy": "2024-05-30T06:13:57.068478Z",
     "iopub.status.idle": "2024-05-30T06:13:57.078097Z",
     "shell.execute_reply": "2024-05-30T06:13:57.076827Z"
    },
    "papermill": {
     "duration": 0.025572,
     "end_time": "2024-05-30T06:13:57.080795",
     "exception": false,
     "start_time": "2024-05-30T06:13:57.055223",
     "status": "completed"
    },
    "tags": []
   },
   "outputs": [
    {
     "data": {
      "text/plain": [
       "0"
      ]
     },
     "execution_count": 56,
     "metadata": {},
     "output_type": "execute_result"
    }
   ],
   "source": [
    "# check duplicates values\n",
    "data.duplicated().sum()"
   ]
  },
  {
   "cell_type": "markdown",
   "id": "c11e8c6b",
   "metadata": {
    "papermill": {
     "duration": 0.011769,
     "end_time": "2024-05-30T06:13:57.104630",
     "exception": false,
     "start_time": "2024-05-30T06:13:57.092861",
     "status": "completed"
    },
    "tags": []
   },
   "source": [
    "# EDA"
   ]
  },
  {
   "cell_type": "code",
   "execution_count": 57,
   "id": "bac7be5e",
   "metadata": {
    "execution": {
     "iopub.execute_input": "2024-05-30T06:13:57.131653Z",
     "iopub.status.busy": "2024-05-30T06:13:57.130746Z",
     "iopub.status.idle": "2024-05-30T06:13:57.630453Z",
     "shell.execute_reply": "2024-05-30T06:13:57.629114Z"
    },
    "papermill": {
     "duration": 0.516632,
     "end_time": "2024-05-30T06:13:57.633269",
     "exception": false,
     "start_time": "2024-05-30T06:13:57.116637",
     "status": "completed"
    },
    "tags": []
   },
   "outputs": [
    {
     "data": {
      "image/png": "[encoded data removed]",
      "text/plain": [
       "<Figure size 500x500 with 1 Axes>"
      ]
     },
     "metadata": {},
     "output_type": "display_data"
    }
   ],
   "source": [
    "sns.lmplot(data=data,x='TV',y='Sales')\n",
    "plt.show()"
   ]
  },
  {
   "cell_type": "code",
   "execution_count": 58,
   "id": "9c7549fa",
   "metadata": {
    "execution": {
     "iopub.execute_input": "2024-05-30T06:13:57.662649Z",
     "iopub.status.busy": "2024-05-30T06:13:57.661935Z",
     "iopub.status.idle": "2024-05-30T06:13:58.100575Z",
     "shell.execute_reply": "2024-05-30T06:13:58.099396Z"
    },
    "papermill": {
     "duration": 0.456937,
     "end_time": "2024-05-30T06:13:58.103532",
     "exception": false,
     "start_time": "2024-05-30T06:13:57.646595",
     "status": "completed"
    },
    "tags": []
   },
   "outputs": [
    {
     "data": {
      "image/png": "[encoded data removed]",
      "text/plain": [
       "<Figure size 500x500 with 1 Axes>"
      ]
     },
     "metadata": {},
     "output_type": "display_data"
    }
   ],
   "source": [
    "sns.lmplot(data=data,x='Radio',y='Sales')\n",
    "plt.show()"
   ]
  },
  {
   "cell_type": "code",
   "execution_count": 59,
   "id": "877a7c45",
   "metadata": {
    "execution": {
     "iopub.execute_input": "2024-05-30T06:13:58.132813Z",
     "iopub.status.busy": "2024-05-30T06:13:58.132425Z",
     "iopub.status.idle": "2024-05-30T06:13:58.573413Z",
     "shell.execute_reply": "2024-05-30T06:13:58.572082Z"
    },
    "papermill": {
     "duration": 0.45894,
     "end_time": "2024-05-30T06:13:58.576637",
     "exception": false,
     "start_time": "2024-05-30T06:13:58.117697",
     "status": "completed"
    },
    "tags": []
   },
   "outputs": [
    {
     "data": {
      "image/png": "[encoded data removed]",
      "text/plain": [
       "<Figure size 500x500 with 1 Axes>"
      ]
     },
     "metadata": {},
     "output_type": "display_data"
    }
   ],
   "source": [
    "sns.lmplot(data=data,x='Newspaper',y='Sales')\n",
    "plt.show()"
   ]
  },
  {
   "cell_type": "code",
   "execution_count": 60,
   "id": "c5603ee6",
   "metadata": {
    "execution": {
     "iopub.execute_input": "2024-05-30T06:13:58.607647Z",
     "iopub.status.busy": "2024-05-30T06:13:58.606905Z",
     "iopub.status.idle": "2024-05-30T06:13:59.735709Z",
     "shell.execute_reply": "2024-05-30T06:13:59.733544Z"
    },
    "papermill": {
     "duration": 1.146928,
     "end_time": "2024-05-30T06:13:59.738091",
     "exception": false,
     "start_time": "2024-05-30T06:13:58.591163",
     "status": "completed"
    },
    "tags": []
   },
   "outputs": [
    {
     "data": {
      "image/png": "[encoded data removed]",
      "text/plain": [
       "<Figure size 2200x600 with 4 Axes>"
      ]
     },
     "metadata": {},
     "output_type": "display_data"
    }
   ],
   "source": [
    "# Dist plot of each cols\n",
    "fig,axes = plt.subplots(1,4,figsize=(22,6))\n",
    "\n",
    "sns.distplot(ax=axes[0],x=data['TV'],color='blue')\n",
    "sns.distplot(ax=axes[1],x=data['Radio'],color='blue')\n",
    "sns.distplot(ax=axes[2],x=data['Newspaper'],color='blue')\n",
    "sns.distplot(ax=axes[3],x=data['Sales'],color='blue')\n",
    "plt.show()\n"
   ]
  },
  {
   "cell_type": "markdown",
   "id": "26aef5d8",
   "metadata": {
    "papermill": {
     "duration": 0.014823,
     "end_time": "2024-05-30T06:13:59.768308",
     "exception": false,
     "start_time": "2024-05-30T06:13:59.753485",
     "status": "completed"
    },
    "tags": []
   },
   "source": [
    "# Extract Target and Input cols"
   ]
  },
  {
   "cell_type": "code",
   "execution_count": 61,
   "id": "be334c05",
   "metadata": {
    "execution": {
     "iopub.execute_input": "2024-05-30T06:13:59.801459Z",
     "iopub.status.busy": "2024-05-30T06:13:59.800861Z",
     "iopub.status.idle": "2024-05-30T06:13:59.808799Z",
     "shell.execute_reply": "2024-05-30T06:13:59.807620Z"
    },
    "papermill": {
     "duration": 0.027531,
     "end_time": "2024-05-30T06:13:59.811030",
     "exception": false,
     "start_time": "2024-05-30T06:13:59.783499",
     "status": "completed"
    },
    "tags": []
   },
   "outputs": [],
   "source": [
    "# Extract target and input cols\n",
    "features = data[['TV','Radio','Newspaper']]\n",
    "target = data['Sales']"
   ]
  },
  {
   "cell_type": "markdown",
   "id": "151af922",
   "metadata": {
    "papermill": {
     "duration": 0.015136,
     "end_time": "2024-05-30T06:13:59.841607",
     "exception": false,
     "start_time": "2024-05-30T06:13:59.826471",
     "status": "completed"
    },
    "tags": []
   },
   "source": [
    "# Spliting the data"
   ]
  },
  {
   "cell_type": "code",
   "execution_count": 62,
   "id": "1f2ee771",
   "metadata": {
    "execution": {
     "iopub.execute_input": "2024-05-30T06:13:59.874234Z",
     "iopub.status.busy": "2024-05-30T06:13:59.873207Z",
     "iopub.status.idle": "2024-05-30T06:13:59.884783Z",
     "shell.execute_reply": "2024-05-30T06:13:59.883387Z"
    },
    "papermill": {
     "duration": 0.030421,
     "end_time": "2024-05-30T06:13:59.887142",
     "exception": false,
     "start_time": "2024-05-30T06:13:59.856721",
     "status": "completed"
    },
    "tags": []
   },
   "outputs": [
    {
     "name": "stdout",
     "output_type": "stream",
     "text": [
      "(160, 3) (40, 3) (160,) (40,)\n"
     ]
    }
   ],
   "source": [
    "# train test spliting\n",
    "X_train,X_test,y_train,y_test = train_test_split(features,target,test_size=0.2,random_state=42)\n",
    "\n",
    "print(X_train.shape, X_test.shape, y_train.shape, y_test.shape)"
   ]
  },
  {
   "cell_type": "markdown",
   "id": "f0ffcf25",
   "metadata": {
    "papermill": {
     "duration": 0.015732,
     "end_time": "2024-05-30T06:13:59.918252",
     "exception": false,
     "start_time": "2024-05-30T06:13:59.902520",
     "status": "completed"
    },
    "tags": []
   },
   "source": [
    "# Scaling"
   ]
  },
  {
   "cell_type": "code",
   "execution_count": 63,
   "id": "c52058fb",
   "metadata": {
    "execution": {
     "iopub.execute_input": "2024-05-30T06:13:59.950963Z",
     "iopub.status.busy": "2024-05-30T06:13:59.950377Z",
     "iopub.status.idle": "2024-05-30T06:13:59.959086Z",
     "shell.execute_reply": "2024-05-30T06:13:59.958240Z"
    },
    "papermill": {
     "duration": 0.02807,
     "end_time": "2024-05-30T06:13:59.961658",
     "exception": false,
     "start_time": "2024-05-30T06:13:59.933588",
     "status": "completed"
    },
    "tags": []
   },
   "outputs": [],
   "source": [
    "sc = StandardScaler()\n",
    "X_train_sc = sc.fit_transform(X_train)\n",
    "X_test_sc = sc.transform(X_test)"
   ]
  },
  {
   "cell_type": "markdown",
   "id": "c82c63a1",
   "metadata": {
    "papermill": {
     "duration": 0.015248,
     "end_time": "2024-05-30T06:13:59.992485",
     "exception": false,
     "start_time": "2024-05-30T06:13:59.977237",
     "status": "completed"
    },
    "tags": []
   },
   "source": [
    "# Model Building & Model Evaluation "
   ]
  },
  {
   "cell_type": "code",
   "execution_count": 64,
   "id": "cfa6d676",
   "metadata": {
    "execution": {
     "iopub.execute_input": "2024-05-30T06:14:00.026575Z",
     "iopub.status.busy": "2024-05-30T06:14:00.026072Z",
     "iopub.status.idle": "2024-05-30T06:14:00.055085Z",
     "shell.execute_reply": "2024-05-30T06:14:00.053662Z"
    },
    "papermill": {
     "duration": 0.049611,
     "end_time": "2024-05-30T06:14:00.057772",
     "exception": false,
     "start_time": "2024-05-30T06:14:00.008161",
     "status": "completed"
    },
    "tags": []
   },
   "outputs": [
    {
     "name": "stdout",
     "output_type": "stream",
     "text": [
      "0.899438024100912\n"
     ]
    }
   ],
   "source": [
    "# linear regression\n",
    "lr = LinearRegression()\n",
    "lr.fit(X_train,y_train)\n",
    "y_pred = lr.predict(X_test)\n",
    "print(r2_score(y_test,y_pred))"
   ]
  },
  {
   "cell_type": "code",
   "execution_count": 65,
   "id": "e37cae01",
   "metadata": {
    "execution": {
     "iopub.execute_input": "2024-05-30T06:14:00.091995Z",
     "iopub.status.busy": "2024-05-30T06:14:00.091603Z",
     "iopub.status.idle": "2024-05-30T06:14:00.097923Z",
     "shell.execute_reply": "2024-05-30T06:14:00.096620Z"
    },
    "papermill": {
     "duration": 0.027388,
     "end_time": "2024-05-30T06:14:00.100925",
     "exception": false,
     "start_time": "2024-05-30T06:14:00.073537",
     "status": "completed"
    },
    "tags": []
   },
   "outputs": [
    {
     "name": "stdout",
     "output_type": "stream",
     "text": [
      "[0.04472952 0.18919505 0.00276111]\n",
      "2.9790673381226256\n"
     ]
    }
   ],
   "source": [
    "print(lr.coef_)\n",
    "print(lr.intercept_)"
   ]
  },
  {
   "cell_type": "code",
   "execution_count": 66,
   "id": "6aabee05",
   "metadata": {
    "execution": {
     "iopub.execute_input": "2024-05-30T06:14:00.136500Z",
     "iopub.status.busy": "2024-05-30T06:14:00.135962Z",
     "iopub.status.idle": "2024-05-30T06:14:00.150768Z",
     "shell.execute_reply": "2024-05-30T06:14:00.149428Z"
    },
    "papermill": {
     "duration": 0.035662,
     "end_time": "2024-05-30T06:14:00.153450",
     "exception": false,
     "start_time": "2024-05-30T06:14:00.117788",
     "status": "completed"
    },
    "tags": []
   },
   "outputs": [
    {
     "name": "stdout",
     "output_type": "stream",
     "text": [
      "0.8994380483184331\n"
     ]
    }
   ],
   "source": [
    "# ridge regression\n",
    "r = Ridge(alpha=0.3,solver='cholesky')\n",
    "r.fit(X_train,y_train)\n",
    "r_pred = r.predict(X_test)\n",
    "print(r2_score(y_test,r_pred))"
   ]
  },
  {
   "cell_type": "code",
   "execution_count": 67,
   "id": "6914d912",
   "metadata": {
    "execution": {
     "iopub.execute_input": "2024-05-30T06:14:00.190517Z",
     "iopub.status.busy": "2024-05-30T06:14:00.189737Z",
     "iopub.status.idle": "2024-05-30T06:14:00.204882Z",
     "shell.execute_reply": "2024-05-30T06:14:00.203619Z"
    },
    "papermill": {
     "duration": 0.037137,
     "end_time": "2024-05-30T06:14:00.207247",
     "exception": false,
     "start_time": "2024-05-30T06:14:00.170110",
     "status": "completed"
    },
    "tags": []
   },
   "outputs": [
    {
     "name": "stdout",
     "output_type": "stream",
     "text": [
      "0.9004013443377963\n"
     ]
    }
   ],
   "source": [
    "# lasso regression\n",
    "l = Lasso()\n",
    "l.fit(X_train,y_train)\n",
    "l_pred = l.predict(X_test)\n",
    "print(r2_score(y_test,l_pred))"
   ]
  },
  {
   "cell_type": "code",
   "execution_count": 68,
   "id": "69a79203",
   "metadata": {
    "execution": {
     "iopub.execute_input": "2024-05-30T06:14:00.240497Z",
     "iopub.status.busy": "2024-05-30T06:14:00.240054Z",
     "iopub.status.idle": "2024-05-30T06:14:00.246438Z",
     "shell.execute_reply": "2024-05-30T06:14:00.245165Z"
    },
    "papermill": {
     "duration": 0.0257,
     "end_time": "2024-05-30T06:14:00.248748",
     "exception": false,
     "start_time": "2024-05-30T06:14:00.223048",
     "status": "completed"
    },
    "tags": []
   },
   "outputs": [
    {
     "name": "stdout",
     "output_type": "stream",
     "text": [
      "[0.04463068 0.18535048 0.00142196]\n",
      "3.1219436998391465\n"
     ]
    }
   ],
   "source": [
    "print(l.coef_)\n",
    "print(l.intercept_)"
   ]
  },
  {
   "cell_type": "code",
   "execution_count": 69,
   "id": "7babdb2c",
   "metadata": {
    "execution": {
     "iopub.execute_input": "2024-05-30T06:14:00.282554Z",
     "iopub.status.busy": "2024-05-30T06:14:00.281823Z",
     "iopub.status.idle": "2024-05-30T06:14:00.541437Z",
     "shell.execute_reply": "2024-05-30T06:14:00.540599Z"
    },
    "papermill": {
     "duration": 0.279182,
     "end_time": "2024-05-30T06:14:00.544111",
     "exception": false,
     "start_time": "2024-05-30T06:14:00.264929",
     "status": "completed"
    },
    "tags": []
   },
   "outputs": [
    {
     "data": {
      "image/png": "[encoded data removed]",
      "text/plain": [
       "<Figure size 640x480 with 1 Axes>"
      ]
     },
     "metadata": {},
     "output_type": "display_data"
    }
   ],
   "source": [
    "# Actual vs Predicated Values\n",
    "plt.scatter(y_test,l_pred,c='red')\n",
    "plt.title('Actual vs Predicated')\n",
    "plt.xlabel('Actual')\n",
    "plt.ylabel('Predicated')\n",
    "plt.show()"
   ]
  },
  {
   "cell_type": "code",
   "execution_count": 70,
   "id": "1828f2f3",
   "metadata": {
    "execution": {
     "iopub.execute_input": "2024-05-30T06:14:00.581167Z",
     "iopub.status.busy": "2024-05-30T06:14:00.578956Z",
     "iopub.status.idle": "2024-05-30T06:14:00.591581Z",
     "shell.execute_reply": "2024-05-30T06:14:00.590275Z"
    },
    "papermill": {
     "duration": 0.03313,
     "end_time": "2024-05-30T06:14:00.594004",
     "exception": false,
     "start_time": "2024-05-30T06:14:00.560874",
     "status": "completed"
    },
    "tags": []
   },
   "outputs": [
    {
     "name": "stdout",
     "output_type": "stream",
     "text": [
      "0.8994843795206078\n"
     ]
    }
   ],
   "source": [
    "# ElasticNet regression\n",
    "e = ElasticNet(alpha=0.1,l1_ratio=0.4)\n",
    "e.fit(X_train,y_train)\n",
    "e_pred = e.predict(X_test)\n",
    "print(r2_score(y_test,e_pred))"
   ]
  },
  {
   "cell_type": "code",
   "execution_count": 71,
   "id": "13a0c5ba",
   "metadata": {
    "execution": {
     "iopub.execute_input": "2024-05-30T06:14:00.628182Z",
     "iopub.status.busy": "2024-05-30T06:14:00.627799Z",
     "iopub.status.idle": "2024-05-30T06:14:00.652999Z",
     "shell.execute_reply": "2024-05-30T06:14:00.651626Z"
    },
    "papermill": {
     "duration": 0.045349,
     "end_time": "2024-05-30T06:14:00.655590",
     "exception": false,
     "start_time": "2024-05-30T06:14:00.610241",
     "status": "completed"
    },
    "tags": []
   },
   "outputs": [
    {
     "name": "stdout",
     "output_type": "stream",
     "text": [
      "0.8997666927012228\n"
     ]
    }
   ],
   "source": [
    "# Ensemble technique \n",
    "voting = VotingRegressor(estimators=[\n",
    "    ('lr',LinearRegression()),\n",
    "    ('r',Ridge(alpha=0.3,solver='cholesky')),\n",
    "    ('l',Lasso()),\n",
    "    ('e',ElasticNet(alpha=0.5,l1_ratio=0.4))\n",
    "])\n",
    "\n",
    "voting.fit(X_train,y_train)\n",
    "v_pred = voting.predict(X_test)\n",
    "print(r2_score(y_test,v_pred))"
   ]
  },
  {
   "cell_type": "code",
   "execution_count": 72,
   "id": "6b3d7e11",
   "metadata": {
    "execution": {
     "iopub.execute_input": "2024-05-30T06:14:00.691116Z",
     "iopub.status.busy": "2024-05-30T06:14:00.690366Z",
     "iopub.status.idle": "2024-05-30T06:14:00.699052Z",
     "shell.execute_reply": "2024-05-30T06:14:00.698253Z"
    },
    "papermill": {
     "duration": 0.029063,
     "end_time": "2024-05-30T06:14:00.701680",
     "exception": false,
     "start_time": "2024-05-30T06:14:00.672617",
     "status": "completed"
    },
    "tags": []
   },
   "outputs": [
    {
     "name": "stdout",
     "output_type": "stream",
     "text": [
      "0.8994380241009119\n"
     ]
    }
   ],
   "source": [
    "lr_sc = LinearRegression()\n",
    "lr_sc.fit(X_train_sc,y_train)\n",
    "lr_sc_pred = lr_sc.predict(X_test_sc)\n",
    "print(r2_score(y_test,lr_sc_pred))"
   ]
  },
  {
   "cell_type": "markdown",
   "id": "89e64f3b",
   "metadata": {
    "papermill": {
     "duration": 0.0164,
     "end_time": "2024-05-30T06:14:00.734798",
     "exception": false,
     "start_time": "2024-05-30T06:14:00.718398",
     "status": "completed"
    },
    "tags": []
   },
   "source": [
    "# Save Model"
   ]
  },
  {
   "cell_type": "code",
   "execution_count": 73,
   "id": "5e12d9ad",
   "metadata": {
    "execution": {
     "iopub.execute_input": "2024-05-30T06:14:00.770052Z",
     "iopub.status.busy": "2024-05-30T06:14:00.769305Z",
     "iopub.status.idle": "2024-05-30T06:14:00.773963Z",
     "shell.execute_reply": "2024-05-30T06:14:00.773155Z"
    },
    "papermill": {
     "duration": 0.024624,
     "end_time": "2024-05-30T06:14:00.776009",
     "exception": false,
     "start_time": "2024-05-30T06:14:00.751385",
     "status": "completed"
    },
    "tags": []
   },
   "outputs": [],
   "source": [
    "import pickle\n",
    "pickle.dump(l,open('sales_model.pkl','wb'))"
   ]
  },
  {
   "cell_type": "markdown",
   "id": "b7601755",
   "metadata": {
    "papermill": {
     "duration": 0.016092,
     "end_time": "2024-05-30T06:14:00.808667",
     "exception": false,
     "start_time": "2024-05-30T06:14:00.792575",
     "status": "completed"
    },
    "tags": []
   },
   "source": [
    "## We used LASSO without scaling for predication"
   ]
  },
  {
   "cell_type": "markdown",
   "id": "e72de1e9",
   "metadata": {
    "papermill": {
     "duration": 0.016095,
     "end_time": "2024-05-30T06:14:00.841123",
     "exception": false,
     "start_time": "2024-05-30T06:14:00.825028",
     "status": "completed"
    },
    "tags": []
   },
   "source": [
    "# Load Model"
   ]
  },
  {
   "cell_type": "code",
   "execution_count": 74,
   "id": "b876a206",
   "metadata": {
    "execution": {
     "iopub.execute_input": "2024-05-30T06:14:00.876080Z",
     "iopub.status.busy": "2024-05-30T06:14:00.875314Z",
     "iopub.status.idle": "2024-05-30T06:14:00.879988Z",
     "shell.execute_reply": "2024-05-30T06:14:00.879182Z"
    },
    "papermill": {
     "duration": 0.024805,
     "end_time": "2024-05-30T06:14:00.882346",
     "exception": false,
     "start_time": "2024-05-30T06:14:00.857541",
     "status": "completed"
    },
    "tags": []
   },
   "outputs": [],
   "source": [
    "sales_prediction_model = pickle.load(open('sales_model.pkl','rb'))"
   ]
  },
  {
   "cell_type": "markdown",
   "id": "f51fab32",
   "metadata": {
    "papermill": {
     "duration": 0.016196,
     "end_time": "2024-05-30T06:14:00.915184",
     "exception": false,
     "start_time": "2024-05-30T06:14:00.898988",
     "status": "completed"
    },
    "tags": []
   },
   "source": [
    "# Make Predication"
   ]
  },
  {
   "cell_type": "code",
   "execution_count": 75,
   "id": "d717fd00",
   "metadata": {
    "execution": {
     "iopub.execute_input": "2024-05-30T06:14:00.951531Z",
     "iopub.status.busy": "2024-05-30T06:14:00.950779Z",
     "iopub.status.idle": "2024-05-30T06:14:00.973112Z",
     "shell.execute_reply": "2024-05-30T06:14:00.972220Z"
    },
    "papermill": {
     "duration": 0.043328,
     "end_time": "2024-05-30T06:14:00.975367",
     "exception": false,
     "start_time": "2024-05-30T06:14:00.932039",
     "status": "completed"
    },
    "tags": []
   },
   "outputs": [
    {
     "data": {
      "text/html": [
       "<div>\n",
       "<style scoped>\n",
       "    .dataframe tbody tr th:only-of-type {\n",
       "        vertical-align: middle;\n",
       "    }\n",
       "\n",
       "    .dataframe tbody tr th {\n",
       "        vertical-align: top;\n",
       "    }\n",
       "\n",
       "    .dataframe thead th {\n",
       "        text-align: right;\n",
       "    }\n",
       "</style>\n",
       "<table border=\"1\" class=\"dataframe\">\n",
       "  <thead>\n",
       "    <tr style=\"text-align: right;\">\n",
       "      <th></th>\n",
       "      <th>TV</th>\n",
       "      <th>Radio</th>\n",
       "      <th>Newspaper</th>\n",
       "      <th>Predicted Sales</th>\n",
       "    </tr>\n",
       "  </thead>\n",
       "  <tbody>\n",
       "    <tr>\n",
       "      <th>0</th>\n",
       "      <td>230.1</td>\n",
       "      <td>37.8</td>\n",
       "      <td>69.2</td>\n",
       "      <td>20.496111</td>\n",
       "    </tr>\n",
       "    <tr>\n",
       "      <th>1</th>\n",
       "      <td>44.5</td>\n",
       "      <td>39.3</td>\n",
       "      <td>45.1</td>\n",
       "      <td>12.456413</td>\n",
       "    </tr>\n",
       "    <tr>\n",
       "      <th>2</th>\n",
       "      <td>17.2</td>\n",
       "      <td>45.9</td>\n",
       "      <td>69.3</td>\n",
       "      <td>12.495720</td>\n",
       "    </tr>\n",
       "    <tr>\n",
       "      <th>3</th>\n",
       "      <td>151.5</td>\n",
       "      <td>41.3</td>\n",
       "      <td>58.5</td>\n",
       "      <td>17.621651</td>\n",
       "    </tr>\n",
       "    <tr>\n",
       "      <th>4</th>\n",
       "      <td>180.8</td>\n",
       "      <td>10.8</td>\n",
       "      <td>58.4</td>\n",
       "      <td>13.275998</td>\n",
       "    </tr>\n",
       "    <tr>\n",
       "      <th>5</th>\n",
       "      <td>8.7</td>\n",
       "      <td>48.9</td>\n",
       "      <td>75.0</td>\n",
       "      <td>12.680516</td>\n",
       "    </tr>\n",
       "    <tr>\n",
       "      <th>6</th>\n",
       "      <td>57.5</td>\n",
       "      <td>32.8</td>\n",
       "      <td>23.5</td>\n",
       "      <td>11.801120</td>\n",
       "    </tr>\n",
       "    <tr>\n",
       "      <th>7</th>\n",
       "      <td>120.2</td>\n",
       "      <td>19.6</td>\n",
       "      <td>11.6</td>\n",
       "      <td>12.135916</td>\n",
       "    </tr>\n",
       "    <tr>\n",
       "      <th>8</th>\n",
       "      <td>8.6</td>\n",
       "      <td>2.1</td>\n",
       "      <td>1.0</td>\n",
       "      <td>3.896426</td>\n",
       "    </tr>\n",
       "    <tr>\n",
       "      <th>9</th>\n",
       "      <td>199.8</td>\n",
       "      <td>2.6</td>\n",
       "      <td>21.2</td>\n",
       "      <td>12.551210</td>\n",
       "    </tr>\n",
       "    <tr>\n",
       "      <th>10</th>\n",
       "      <td>66.1</td>\n",
       "      <td>5.8</td>\n",
       "      <td>24.2</td>\n",
       "      <td>7.181476</td>\n",
       "    </tr>\n",
       "    <tr>\n",
       "      <th>11</th>\n",
       "      <td>214.7</td>\n",
       "      <td>24.0</td>\n",
       "      <td>4.0</td>\n",
       "      <td>17.158250</td>\n",
       "    </tr>\n",
       "    <tr>\n",
       "      <th>12</th>\n",
       "      <td>23.8</td>\n",
       "      <td>35.1</td>\n",
       "      <td>65.9</td>\n",
       "      <td>10.783663</td>\n",
       "    </tr>\n",
       "    <tr>\n",
       "      <th>13</th>\n",
       "      <td>97.5</td>\n",
       "      <td>7.6</td>\n",
       "      <td>7.2</td>\n",
       "      <td>8.892337</td>\n",
       "    </tr>\n",
       "    <tr>\n",
       "      <th>14</th>\n",
       "      <td>204.1</td>\n",
       "      <td>32.9</td>\n",
       "      <td>46.0</td>\n",
       "      <td>18.394506</td>\n",
       "    </tr>\n",
       "    <tr>\n",
       "      <th>15</th>\n",
       "      <td>195.4</td>\n",
       "      <td>47.7</td>\n",
       "      <td>52.9</td>\n",
       "      <td>20.759218</td>\n",
       "    </tr>\n",
       "    <tr>\n",
       "      <th>16</th>\n",
       "      <td>67.8</td>\n",
       "      <td>36.6</td>\n",
       "      <td>114.0</td>\n",
       "      <td>13.093834</td>\n",
       "    </tr>\n",
       "    <tr>\n",
       "      <th>17</th>\n",
       "      <td>281.4</td>\n",
       "      <td>39.6</td>\n",
       "      <td>55.8</td>\n",
       "      <td>23.100241</td>\n",
       "    </tr>\n",
       "    <tr>\n",
       "      <th>18</th>\n",
       "      <td>69.2</td>\n",
       "      <td>20.5</td>\n",
       "      <td>18.3</td>\n",
       "      <td>10.036093</td>\n",
       "    </tr>\n",
       "    <tr>\n",
       "      <th>19</th>\n",
       "      <td>147.3</td>\n",
       "      <td>23.9</td>\n",
       "      <td>19.1</td>\n",
       "      <td>14.153079</td>\n",
       "    </tr>\n",
       "  </tbody>\n",
       "</table>\n",
       "</div>"
      ],
      "text/plain": [
       "       TV  Radio  Newspaper  Predicted Sales\n",
       "0   230.1   37.8       69.2        20.496111\n",
       "1    44.5   39.3       45.1        12.456413\n",
       "2    17.2   45.9       69.3        12.495720\n",
       "3   151.5   41.3       58.5        17.621651\n",
       "4   180.8   10.8       58.4        13.275998\n",
       "5     8.7   48.9       75.0        12.680516\n",
       "6    57.5   32.8       23.5        11.801120\n",
       "7   120.2   19.6       11.6        12.135916\n",
       "8     8.6    2.1        1.0         3.896426\n",
       "9   199.8    2.6       21.2        12.551210\n",
       "10   66.1    5.8       24.2         7.181476\n",
       "11  214.7   24.0        4.0        17.158250\n",
       "12   23.8   35.1       65.9        10.783663\n",
       "13   97.5    7.6        7.2         8.892337\n",
       "14  204.1   32.9       46.0        18.394506\n",
       "15  195.4   47.7       52.9        20.759218\n",
       "16   67.8   36.6      114.0        13.093834\n",
       "17  281.4   39.6       55.8        23.100241\n",
       "18   69.2   20.5       18.3        10.036093\n",
       "19  147.3   23.9       19.1        14.153079"
      ]
     },
     "execution_count": 75,
     "metadata": {},
     "output_type": "execute_result"
    }
   ],
   "source": [
    "predication = pd.DataFrame(data.iloc[:20][['TV','Radio','Newspaper']])\n",
    "predication['Predicted Sales'] = sales_prediction_model.predict(predication)\n",
    "predication"
   ]
  }
 ],
 "metadata": {
  "kaggle": {
   "accelerator": "none",
   "dataSources": [
    {
     "datasetId": 582088,
     "sourceId": 1052144,
     "sourceType": "datasetVersion"
    }
   ],
   "dockerImageVersionId": 30698,
   "isGpuEnabled": false,
   "isInternetEnabled": true,
   "language": "python",
   "sourceType": "notebook"
  },
  "kernelspec": {
   "display_name": "Python 3 (ipykernel)",
   "language": "python",
   "name": "python3"
  },
  "language_info": {
   "codemirror_mode": {
    "name": "ipython",
    "version": 3
   },
   "file_extension": ".py",
   "mimetype": "text/x-python",
   "name": "python",
   "nbconvert_exporter": "python",
   "pygments_lexer": "ipython3",
   "version": "3.10.7"
  },
  "papermill": {
   "default_parameters": {},
   "duration": 11.440867,
   "end_time": "2024-05-30T06:14:01.714104",
   "environment_variables": {},
   "exception": null,
   "input_path": "__notebook__.ipynb",
   "output_path": "__notebook__.ipynb",
   "parameters": {},
   "start_time": "2024-05-30T06:13:50.273237",
   "version": "2.5.0"
  }
 },
 "nbformat": 4,
 "nbformat_minor": 5
}
